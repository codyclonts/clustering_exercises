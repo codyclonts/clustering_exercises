{
 "cells": [
  {
   "cell_type": "code",
   "execution_count": 1,
   "id": "d4e11beb",
   "metadata": {},
   "outputs": [],
   "source": [
    "# ignore warnings\n",
    "import warnings\n",
    "warnings.filterwarnings(\"ignore\")\n",
    "\n",
    "# Wrangling\n",
    "import pandas as pd\n",
    "import numpy as np\n",
    "\n",
    "# Exploring\n",
    "import scipy.stats as stats\n",
    "\n",
    "# Visualizing\n",
    "%matplotlib inline\n",
    "import matplotlib.pyplot as plt\n",
    "import seaborn as sns\n",
    "\n",
    "from env import get_db_url\n",
    "import os\n",
    "\n",
    "# default pandas decimal number display format\n",
    "pd.options.display.float_format = '{:20,.2f}'.format\n"
   ]
  },
  {
   "cell_type": "code",
   "execution_count": 2,
   "id": "0acaa10e",
   "metadata": {},
   "outputs": [],
   "source": [
    "def get_zillow_data():\n",
    "    filename = 'zillow_data.csv'\n",
    "    \n",
    "    if os.path.isfile(filename):\n",
    "        return pd.read_csv(filename, index_col = 0)\n",
    "    else:\n",
    "        df = pd.read_sql(\n",
    "        '''\n",
    "        SELECT *\n",
    "        FROM properties_2017\n",
    "        JOIN propertylandusetype \n",
    "        USING (propertylandusetypeid)\n",
    "        JOIN predictions_2017\n",
    "        USING (parcelid)\n",
    "        WHERE propertylandusedesc = 'Single Family Residential';\n",
    "        '''\n",
    "        ,\n",
    "        get_db_url('zillow')\n",
    "        )\n",
    "        \n",
    "        df.to_csv(filename)\n",
    "        \n",
    "        return df"
   ]
  },
  {
   "cell_type": "code",
   "execution_count": 3,
   "id": "124b898e",
   "metadata": {},
   "outputs": [
    {
     "data": {
      "text/plain": [
       "(52442, 63)"
      ]
     },
     "execution_count": 3,
     "metadata": {},
     "output_type": "execute_result"
    }
   ],
   "source": [
    "df = get_zillow_data()\n",
    "df_original = df.copy()\n",
    "df_original.shape"
   ]
  },
  {
   "cell_type": "code",
   "execution_count": 4,
   "id": "1894fbc5",
   "metadata": {},
   "outputs": [],
   "source": [
    "def handle_missing_values(df, prop_required_column = .5, prop_required_row = .75):\n",
    "    threshold = int(round(prop_required_column * len(df.index), 0))\n",
    "    df.dropna(axis=1, thresh = threshold, inpolace = True)\n",
    "    threshold = int(round(prop_requred_row * len(df.columns), 0))\n",
    "    df.dropna(axis = 0, thresh = threshold, inplace = True)"
   ]
  },
  {
   "cell_type": "code",
   "execution_count": 5,
   "id": "9c97f536",
   "metadata": {},
   "outputs": [],
   "source": [
    "def handle_missing_values(df, prop_required_column = .5, prop_required_row = .75):\n",
    "    threshold = int(round(prop_required_column*len(df.index),0))\n",
    "    df.dropna(axis=1, thresh=threshold, inplace=True)\n",
    "    threshold = int(round(prop_required_row*len(df.columns),0))\n",
    "    df.dropna(axis=0, thresh=threshold, inplace=True)\n",
    "    return df\n"
   ]
  },
  {
   "cell_type": "code",
   "execution_count": 6,
   "id": "758ea75b",
   "metadata": {},
   "outputs": [],
   "source": [
    "df = handle_missing_values(df, prop_required_column = .8, prop_required_row = .9)"
   ]
  },
  {
   "cell_type": "code",
   "execution_count": 7,
   "id": "98b253d5",
   "metadata": {},
   "outputs": [
    {
     "data": {
      "text/plain": [
       "0.998226612257351"
      ]
     },
     "execution_count": 7,
     "metadata": {},
     "output_type": "execute_result"
    }
   ],
   "source": [
    "52349/52442"
   ]
  },
  {
   "cell_type": "code",
   "execution_count": 8,
   "id": "906cf530",
   "metadata": {},
   "outputs": [
    {
     "data": {
      "text/plain": [
       "parcelid                           0\n",
       "propertylandusetypeid              0\n",
       "id                                 0\n",
       "bathroomcnt                        0\n",
       "bedroomcnt                         0\n",
       "calculatedbathnbr                 61\n",
       "calculatedfinishedsquarefeet       7\n",
       "finishedsquarefeet12             171\n",
       "fips                               0\n",
       "fullbathcnt                       61\n",
       "latitude                           0\n",
       "longitude                          0\n",
       "lotsizesquarefeet                347\n",
       "propertycountylandusecode          0\n",
       "rawcensustractandblock             0\n",
       "regionidcity                    1013\n",
       "regionidcounty                     0\n",
       "regionidzip                        7\n",
       "roomcnt                            0\n",
       "yearbuilt                         41\n",
       "structuretaxvaluedollarcnt        71\n",
       "taxvaluedollarcnt                  1\n",
       "assessmentyear                     0\n",
       "landtaxvaluedollarcnt              1\n",
       "taxamount                          4\n",
       "censustractandblock               97\n",
       "propertylandusedesc                0\n",
       "id.1                               0\n",
       "logerror                           0\n",
       "transactiondate                    0\n",
       "dtype: int64"
      ]
     },
     "execution_count": 8,
     "metadata": {},
     "output_type": "execute_result"
    }
   ],
   "source": [
    "df.isna().sum()"
   ]
  },
  {
   "cell_type": "code",
   "execution_count": null,
   "id": "5447e3ee",
   "metadata": {},
   "outputs": [],
   "source": []
  }
 ],
 "metadata": {
  "kernelspec": {
   "display_name": "Python 3 (ipykernel)",
   "language": "python",
   "name": "python3"
  },
  "language_info": {
   "codemirror_mode": {
    "name": "ipython",
    "version": 3
   },
   "file_extension": ".py",
   "mimetype": "text/x-python",
   "name": "python",
   "nbconvert_exporter": "python",
   "pygments_lexer": "ipython3",
   "version": "3.9.7"
  }
 },
 "nbformat": 4,
 "nbformat_minor": 5
}
