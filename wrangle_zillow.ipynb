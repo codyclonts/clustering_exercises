{
 "cells": [
  {
   "cell_type": "code",
   "execution_count": 1,
   "id": "d4e11beb",
   "metadata": {},
   "outputs": [],
   "source": [
    "# ignore warnings\n",
    "import warnings\n",
    "warnings.filterwarnings(\"ignore\")\n",
    "\n",
    "# Wrangling\n",
    "import pandas as pd\n",
    "import numpy as np\n",
    "\n",
    "# Exploring\n",
    "import scipy.stats as stats\n",
    "\n",
    "# Visualizing\n",
    "%matplotlib inline\n",
    "import matplotlib.pyplot as plt\n",
    "import seaborn as sns\n",
    "\n",
    "from env import get_db_url\n",
    "import os\n",
    "from itertools import combinations\n",
    "# default pandas decimal number display format\n",
    "pd.options.display.float_format = '{:20,.2f}'.format\n",
    "\n",
    "import wrangle_zillow as wrangle\n"
   ]
  },
  {
   "cell_type": "code",
   "execution_count": 2,
   "id": "f925f92a",
   "metadata": {},
   "outputs": [],
   "source": [
    "df = wrangle.get_zillow_data()"
   ]
  },
  {
   "cell_type": "code",
   "execution_count": 3,
   "id": "cff82392",
   "metadata": {},
   "outputs": [
    {
     "data": {
      "text/plain": [
       "(52442, 63)"
      ]
     },
     "execution_count": 3,
     "metadata": {},
     "output_type": "execute_result"
    }
   ],
   "source": [
    "df.shape"
   ]
  },
  {
   "cell_type": "code",
   "execution_count": 4,
   "id": "fb358ed6",
   "metadata": {},
   "outputs": [],
   "source": [
    "df = wrangle.wrangle_zillow()"
   ]
  },
  {
   "cell_type": "code",
   "execution_count": 5,
   "id": "3c420f90",
   "metadata": {},
   "outputs": [
    {
     "data": {
      "text/plain": [
       "(30299, 31)"
      ]
     },
     "execution_count": 5,
     "metadata": {},
     "output_type": "execute_result"
    }
   ],
   "source": [
    "df.shape"
   ]
  },
  {
   "cell_type": "code",
   "execution_count": null,
   "id": "c72608f3",
   "metadata": {},
   "outputs": [],
   "source": [
    "df = wrangle.handle_missing_values(df, prop_required_column = .9, prop_required_row = .9)"
   ]
  },
  {
   "cell_type": "code",
   "execution_count": null,
   "id": "26c3a877",
   "metadata": {},
   "outputs": [],
   "source": [
    "df.shape"
   ]
  },
  {
   "cell_type": "code",
   "execution_count": null,
   "id": "5983149d",
   "metadata": {},
   "outputs": [],
   "source": [
    "df = wrangle.handle_outliers2()"
   ]
  },
  {
   "cell_type": "code",
   "execution_count": null,
   "id": "b6e3e3c7",
   "metadata": {},
   "outputs": [],
   "source": [
    "df.logerror.min()"
   ]
  },
  {
   "cell_type": "code",
   "execution_count": null,
   "id": "f935f8e0",
   "metadata": {},
   "outputs": [],
   "source": [
    "df.calculatedfinishedsquarefeet.max()"
   ]
  },
  {
   "cell_type": "code",
   "execution_count": null,
   "id": "42d7a8a8",
   "metadata": {},
   "outputs": [],
   "source": [
    "df.bedroomcnt.max()"
   ]
  },
  {
   "cell_type": "code",
   "execution_count": null,
   "id": "1b054338",
   "metadata": {},
   "outputs": [],
   "source": []
  },
  {
   "cell_type": "code",
   "execution_count": null,
   "id": "9df60cf9",
   "metadata": {},
   "outputs": [],
   "source": []
  },
  {
   "cell_type": "code",
   "execution_count": null,
   "id": "8d056df6",
   "metadata": {},
   "outputs": [],
   "source": []
  },
  {
   "cell_type": "code",
   "execution_count": null,
   "id": "38764e3a",
   "metadata": {},
   "outputs": [],
   "source": []
  },
  {
   "cell_type": "code",
   "execution_count": null,
   "id": "010903e7",
   "metadata": {},
   "outputs": [],
   "source": []
  },
  {
   "cell_type": "code",
   "execution_count": null,
   "id": "0acaa10e",
   "metadata": {},
   "outputs": [],
   "source": [
    "def get_zillow_data():\n",
    "    filename = 'zillow_data.csv'\n",
    "    \n",
    "    if os.path.isfile(filename):\n",
    "        return pd.read_csv(filename, index_col = 0)\n",
    "    else:\n",
    "        df = pd.read_sql(\n",
    "        '''\n",
    "        SELECT *\n",
    "        FROM properties_2017\n",
    "        JOIN propertylandusetype \n",
    "        USING (propertylandusetypeid)\n",
    "        JOIN predictions_2017\n",
    "        USING (parcelid)\n",
    "        WHERE propertylandusedesc = 'Single Family Residential';\n",
    "        '''\n",
    "        ,\n",
    "        get_db_url('zillow')\n",
    "        )\n",
    "        \n",
    "        df.to_csv(filename)\n",
    "        \n",
    "        return df"
   ]
  },
  {
   "cell_type": "code",
   "execution_count": null,
   "id": "124b898e",
   "metadata": {},
   "outputs": [],
   "source": [
    "df = get_zillow_data()\n",
    "df_original = df.copy()\n",
    "df_original.shape"
   ]
  },
  {
   "cell_type": "code",
   "execution_count": null,
   "id": "1894fbc5",
   "metadata": {},
   "outputs": [],
   "source": [
    "def handle_missing_values(df, prop_required_column = .5, prop_required_row = .75):\n",
    "    threshold = int(round(prop_required_column * len(df.index), 0))\n",
    "    df.dropna(axis=1, thresh = threshold, inpolace = True)\n",
    "    threshold = int(round(prop_requred_row * len(df.columns), 0))\n",
    "    df.dropna(axis = 0, thresh = threshold, inplace = True)"
   ]
  },
  {
   "cell_type": "code",
   "execution_count": null,
   "id": "9c97f536",
   "metadata": {},
   "outputs": [],
   "source": [
    "def handle_missing_values(df, prop_required_column = .5, prop_required_row = .75):\n",
    "    threshold = int(round(prop_required_column*len(df.index),0))\n",
    "    df.dropna(axis=1, thresh=threshold, inplace=True)\n",
    "    threshold = int(round(prop_required_row*len(df.columns),0))\n",
    "    df.dropna(axis=0, thresh=threshold, inplace=True)\n",
    "    return df\n"
   ]
  },
  {
   "cell_type": "code",
   "execution_count": null,
   "id": "758ea75b",
   "metadata": {},
   "outputs": [],
   "source": [
    "df = handle_missing_values(df, prop_required_column = .8, prop_required_row = .9)"
   ]
  },
  {
   "cell_type": "code",
   "execution_count": null,
   "id": "98b253d5",
   "metadata": {},
   "outputs": [],
   "source": [
    "52349/52442"
   ]
  },
  {
   "cell_type": "code",
   "execution_count": null,
   "id": "906cf530",
   "metadata": {},
   "outputs": [],
   "source": [
    "df.isna().sum()"
   ]
  },
  {
   "cell_type": "code",
   "execution_count": null,
   "id": "c07d9beb",
   "metadata": {},
   "outputs": [],
   "source": [
    "cols = [\n",
    " 'bathroomcnt',\n",
    " 'bedroomcnt',\n",
    " 'calculatedbathnbr',\n",
    " 'calculatedfinishedsquarefeet',\n",
    " 'fips',\n",
    " 'latitude',\n",
    " 'longitude',\n",
    " 'lotsizesquarefeet',\n",
    " 'rawcensustractandblock',\n",
    " 'regionidcity',\n",
    " 'regionidcounty',\n",
    " 'regionidzip',\n",
    " 'roomcnt',\n",
    " 'yearbuilt',\n",
    " 'structuretaxvaluedollarcnt',\n",
    " 'taxvaluedollarcnt',\n",
    " 'landtaxvaluedollarcnt',\n",
    " 'taxamount',\n",
    " 'id.1',\n",
    " 'logerror']"
   ]
  },
  {
   "cell_type": "code",
   "execution_count": null,
   "id": "5447e3ee",
   "metadata": {},
   "outputs": [],
   "source": [
    "def handle_outliers(df, cols, k):\n",
    "    # Create placeholder dictionary for each columns bounds\n",
    "    bounds_dict = {}\n",
    "\n",
    "    # get a list of all columns that are not object type\n",
    "    non_object_cols = df.dtypes[df.dtypes != 'object'].index\n",
    "\n",
    "\n",
    "    for col in non_object_cols:\n",
    "        # get necessary iqr values\n",
    "        q1 = df[col].quantile(0.25)\n",
    "        q3 = df[col].quantile(0.75)\n",
    "        iqr = q3 - q1\n",
    "        upper_bound =  q3 + k * iqr\n",
    "        lower_bound =  q1 - k * iqr\n",
    "\n",
    "        #store values in a dictionary referencable by the column name\n",
    "        #and specific bound\n",
    "        bounds_dict[col] = {}\n",
    "        bounds_dict[col]['upper_bound'] = upper_bound\n",
    "        bounds_dict[col]['lower_bound'] = lower_bound\n",
    "\n",
    "    for col in non_object_cols:\n",
    "        #retrieve bounds\n",
    "        col_upper_bound = bounds_dict[col]['upper_bound']\n",
    "        col_lower_bound = bounds_dict[col]['lower_bound']\n",
    "\n",
    "        #remove rows with an outlier in that column\n",
    "        df = df[(df[col] < col_upper_bound) & (df[col] > col_lower_bound)]\n",
    "        return df"
   ]
  },
  {
   "cell_type": "code",
   "execution_count": null,
   "id": "2459464a",
   "metadata": {},
   "outputs": [],
   "source": [
    "handle_outliers(df, cols, 1.5)"
   ]
  },
  {
   "cell_type": "code",
   "execution_count": null,
   "id": "8afc8ed0",
   "metadata": {},
   "outputs": [],
   "source": [
    "df.shape"
   ]
  },
  {
   "cell_type": "code",
   "execution_count": null,
   "id": "422d7369",
   "metadata": {},
   "outputs": [],
   "source": [
    "df2=df.copy()"
   ]
  },
  {
   "cell_type": "code",
   "execution_count": null,
   "id": "176155c7",
   "metadata": {},
   "outputs": [],
   "source": [
    "df2 = handle_outliers(df, cols, 1.15)"
   ]
  },
  {
   "cell_type": "code",
   "execution_count": null,
   "id": "67a89132",
   "metadata": {},
   "outputs": [],
   "source": [
    "df2.shape"
   ]
  },
  {
   "cell_type": "code",
   "execution_count": null,
   "id": "91ea81c8",
   "metadata": {},
   "outputs": [],
   "source": [
    "49328/52349"
   ]
  },
  {
   "cell_type": "code",
   "execution_count": null,
   "id": "8c359caa",
   "metadata": {},
   "outputs": [],
   "source": [
    "df = wrangle.get_zillow_data()"
   ]
  },
  {
   "cell_type": "code",
   "execution_count": null,
   "id": "c2d9fc9f",
   "metadata": {},
   "outputs": [],
   "source": [
    "q1 = df.calculatedfinishedsquarefeet.quantile(0.25)\n",
    "q3 = df.calculatedfinishedsquarefeet.quantile(0.75)\n",
    "iqr = q3 - q1\n",
    "upper_bound =  q3 + 1.5 * iqr\n",
    "lower_bound =  q1 - 1.5 * iqr\n",
    "print('Q1 = ' , q1 , 'Q3 =' , q3 , 'lower bound = ', lower_bound , 'upper bound = ', upper_bound)\n",
    "print ('actual min = ',df.calculatedfinishedsquarefeet.min())\n",
    "print ('actual max =', df.calculatedfinishedsquarefeet.max())"
   ]
  },
  {
   "cell_type": "code",
   "execution_count": null,
   "id": "c15ed75f",
   "metadata": {},
   "outputs": [],
   "source": [
    "q1 = df.logerror.quantile(0.25)\n",
    "q3 = df.logerror.quantile(0.75)\n",
    "iqr = q3 - q1\n",
    "upper_bound =  q3 + 1.5 * iqr\n",
    "lower_bound =  q1 - 1.5 * iqr\n",
    "print('Q1 = ' , q1 , 'Q3 =' , q3 , 'lower bound = ', lower_bound , 'upper bound = ', upper_bound)\n",
    "print ('actual min = ',df.logerror.min())\n",
    "print ('actual max =', df.logerror.max())"
   ]
  },
  {
   "cell_type": "code",
   "execution_count": null,
   "id": "8be738b3",
   "metadata": {},
   "outputs": [],
   "source": [
    "q1 = df.bedroomcnt.quantile(0.25)\n",
    "q3 = df.bedroomcnt.quantile(0.75)\n",
    "iqr = q3 - q1\n",
    "upper_bound =  q3 + 1.15 * iqr\n",
    "lower_bound =  q1 - 1.15 * iqr\n",
    "print('Q1 = ' , q1 , 'Q3 =' , q3 , 'lower bound = ', lower_bound , 'upper bound = ', upper_bound)\n",
    "print ('actual min = ',df.bedroomcnt.min())\n",
    "print ('actual max =', df.bedroomcnt.max())"
   ]
  },
  {
   "cell_type": "code",
   "execution_count": null,
   "id": "0181fabb",
   "metadata": {},
   "outputs": [],
   "source": [
    "q1 = df.bathroomcnt.quantile(0.25)\n",
    "q3 = df.bathroomcnt.quantile(0.75)\n",
    "iqr = q3 - q1\n",
    "upper_bound =  q3 + 1.15 * iqr\n",
    "lower_bound =  q1 - 1.15 * iqr\n",
    "print('Q1 = ' , q1 , 'Q3 =' , q3 , 'lower bound = ', lower_bound , 'upper bound = ', upper_bound)\n",
    "print ('actual min = ',df.bathroomcnt.min())\n",
    "print ('actual max =', df.bathroomcnt.max())"
   ]
  },
  {
   "cell_type": "code",
   "execution_count": null,
   "id": "2ef46782",
   "metadata": {},
   "outputs": [],
   "source": [
    "q1 = df.lotsizesquarefeet.quantile(0.25)\n",
    "q3 = df.lotsizesquarefeet.quantile(0.75)\n",
    "iqr = q3 - q1\n",
    "upper_bound =  q3 + 1.5 * iqr\n",
    "lower_bound =  q1 - 1.5 * iqr\n",
    "print('Q1 = ' , q1 , 'Q3 =' , q3 , 'lower bound = ', lower_bound , 'upper bound = ', upper_bound)\n",
    "print ('actual min = ',df.lotsizesquarefeet.min())\n",
    "print ('actual max =', df.lotsizesquarefeet.max())"
   ]
  },
  {
   "cell_type": "code",
   "execution_count": null,
   "id": "4e992a86",
   "metadata": {},
   "outputs": [],
   "source": [
    "q1 = df.taxvaluedollarcnt.quantile(0.25)\n",
    "q3 = df.taxvaluedollarcnt.quantile(0.75)\n",
    "iqr = q3 - q1\n",
    "upper_bound =  q3 - 1.15 * iqr\n",
    "lower_bound =  q1 + 1.15 * iqr\n",
    "print('Q1 = ' , q1 , 'Q3 =' , q3 , 'lower bound = ', lower_bound , 'upper bound = ', upper_bound)\n",
    "print ('actual min = ',df.taxvaluedollarcnt.min())\n",
    "print ('actual max =', df.taxvaluedollarcnt.max())"
   ]
  },
  {
   "cell_type": "code",
   "execution_count": null,
   "id": "b049c745",
   "metadata": {},
   "outputs": [],
   "source": []
  },
  {
   "cell_type": "code",
   "execution_count": null,
   "id": "a51bf2cc",
   "metadata": {},
   "outputs": [],
   "source": [
    "df = wrangle.wrangle_zillow()"
   ]
  },
  {
   "cell_type": "code",
   "execution_count": null,
   "id": "5cc0f5d2",
   "metadata": {},
   "outputs": [],
   "source": [
    "df.shape"
   ]
  },
  {
   "cell_type": "code",
   "execution_count": null,
   "id": "a5063ff6",
   "metadata": {},
   "outputs": [],
   "source": [
    "q1 = df.logerror.quantile(0.25)\n",
    "q3 = df.logerror.quantile(0.75)\n",
    "iqr = q3 - q1\n",
    "upper_bound =  q3 + 1.15 * iqr\n",
    "lower_bound =  q1 - 1.15 * iqr"
   ]
  },
  {
   "cell_type": "code",
   "execution_count": null,
   "id": "1ffb67ca",
   "metadata": {},
   "outputs": [],
   "source": [
    "q1 = df.logerror.quantile(0.25)\n",
    "q3 = df.logerror.quantile(0.75)\n",
    "iqr = q3 - q1\n",
    "upper_bound =  q3 + 1.15 * iqr\n",
    "lower_bound =  q1 - 1.15 * iqr\n",
    "print('Q1 = ' , q1 , 'Q3 =' , q3 , 'lower bound = ', lower_bound , 'upper bound = ', upper_bound, 'iqr = ' , iqr)\n",
    "print ('actual min = ',df.logerror.min())\n",
    "print ('actual max =', df.logerror.max())"
   ]
  },
  {
   "cell_type": "code",
   "execution_count": null,
   "id": "1ea2f54d",
   "metadata": {},
   "outputs": [],
   "source": [
    "q1 = df.bedroomcnt.quantile(0.25)\n",
    "q3 = df.bedroomcnt.quantile(0.75)\n",
    "iqr = q3 - q1\n",
    "upper_bound =  q3 + 1.15 * iqr\n",
    "lower_bound =  q1 - 1.15 * iqr\n",
    "print('Q1 = ' , q1 , 'Q3 =' , q3 , 'lower bound = ', lower_bound , 'upper bound = ', upper_bound)\n",
    "print ('actual min = ',df.bedroomcnt.min())\n",
    "print ('actual max =', df.bedroomcnt.max())"
   ]
  },
  {
   "cell_type": "code",
   "execution_count": null,
   "id": "e17fb56c",
   "metadata": {},
   "outputs": [],
   "source": [
    "q1 = df.bathroomcnt.quantile(0.25)\n",
    "q3 = df.bathroomcnt.quantile(0.75)\n",
    "iqr = q3 - q1\n",
    "upper_bound =  q3 + 1.15 * iqr\n",
    "lower_bound =  q1 - 1.15 * iqr\n",
    "print('Q1 = ' , q1 , 'Q3 =' , q3 , 'lower bound = ', lower_bound , 'upper bound = ', upper_bound)\n",
    "print ('actual min = ',df.bathroomcnt.min())\n",
    "print ('actual max =', df.bathroomcnt.max())"
   ]
  },
  {
   "cell_type": "code",
   "execution_count": null,
   "id": "06434a9f",
   "metadata": {},
   "outputs": [],
   "source": [
    "q1 = df.calculatedfinishedsquarefeet.quantile(0.25)\n",
    "q3 = df.calculatedfinishedsquarefeet.quantile(0.75)\n",
    "iqr = q3 - q1\n",
    "upper_bound =  q3 + 1.15 * iqr\n",
    "lower_bound =  q1 - 1.15 * iqr\n",
    "print('Q1 = ' , q1 , 'Q3 =' , q3 , 'lower bound = ', lower_bound , 'upper bound = ', upper_bound)\n",
    "print ('actual min = ',df.calculatedfinishedsquarefeet.min())\n",
    "print ('actual max =', df.calculatedfinishedsquarefeet.max())"
   ]
  },
  {
   "cell_type": "code",
   "execution_count": null,
   "id": "ca5e95a6",
   "metadata": {},
   "outputs": [],
   "source": [
    "  cols = [\n",
    " 'bathroomcnt',\n",
    " 'bedroomcnt',\n",
    " 'calculatedfinishedsquarefeet',\n",
    " 'lotsizesquarefeet',\n",
    " 'taxvaluedollarcnt',\n",
    " 'logerror']"
   ]
  },
  {
   "cell_type": "code",
   "execution_count": null,
   "id": "8fe66589",
   "metadata": {},
   "outputs": [],
   "source": [
    "df = wrangle.get_zillow_data()"
   ]
  },
  {
   "cell_type": "code",
   "execution_count": null,
   "id": "93196208",
   "metadata": {},
   "outputs": [],
   "source": [
    "df.shape"
   ]
  },
  {
   "cell_type": "code",
   "execution_count": null,
   "id": "7dfaebf3",
   "metadata": {},
   "outputs": [],
   "source": [
    "df = wrangle.handle_missing_values(df, prop_required_column = .9, prop_required_row = .9)"
   ]
  },
  {
   "cell_type": "code",
   "execution_count": null,
   "id": "3d436ea7",
   "metadata": {},
   "outputs": [],
   "source": [
    "df.shape"
   ]
  },
  {
   "cell_type": "code",
   "execution_count": null,
   "id": "61de2c05",
   "metadata": {},
   "outputs": [],
   "source": [
    "df = wrangle.handle_outliers(df, cols, 1.15)"
   ]
  },
  {
   "cell_type": "code",
   "execution_count": null,
   "id": "9a2c7f0e",
   "metadata": {},
   "outputs": [],
   "source": [
    "df.shape"
   ]
  },
  {
   "cell_type": "code",
   "execution_count": null,
   "id": "06bfeae3",
   "metadata": {},
   "outputs": [],
   "source": [
    "df.fips.value_counts()"
   ]
  },
  {
   "cell_type": "code",
   "execution_count": null,
   "id": "6ec17c9b",
   "metadata": {},
   "outputs": [],
   "source": [
    "df = w"
   ]
  }
 ],
 "metadata": {
  "kernelspec": {
   "display_name": "Python 3 (ipykernel)",
   "language": "python",
   "name": "python3"
  },
  "language_info": {
   "codemirror_mode": {
    "name": "ipython",
    "version": 3
   },
   "file_extension": ".py",
   "mimetype": "text/x-python",
   "name": "python",
   "nbconvert_exporter": "python",
   "pygments_lexer": "ipython3",
   "version": "3.9.7"
  }
 },
 "nbformat": 4,
 "nbformat_minor": 5
}
